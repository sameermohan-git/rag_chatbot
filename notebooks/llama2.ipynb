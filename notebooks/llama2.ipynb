{
 "cells": [
  {
   "cell_type": "code",
   "execution_count": 1,
   "metadata": {},
   "outputs": [
    {
     "ename": "ModuleNotFoundError",
     "evalue": "No module named 'fileingestor'",
     "output_type": "error",
     "traceback": [
      "\u001b[0;31m---------------------------------------------------------------------------\u001b[0m",
      "\u001b[0;31mModuleNotFoundError\u001b[0m                       Traceback (most recent call last)",
      "\u001b[1;32m/Users/sameer-macair/PycharmProjects/rag_chatbot/data/pdf/notebooks/llama2.ipynb Cell 1\u001b[0m line \u001b[0;36m<cell line: 3>\u001b[0;34m()\u001b[0m\n\u001b[1;32m      <a href='vscode-notebook-cell:/Users/sameer-macair/PycharmProjects/rag_chatbot/data/pdf/notebooks/llama2.ipynb#W1sZmlsZQ%3D%3D?line=0'>1</a>\u001b[0m \u001b[39mimport\u001b[39;00m \u001b[39mstreamlit\u001b[39;00m \u001b[39mas\u001b[39;00m \u001b[39mst\u001b[39;00m\n\u001b[0;32m----> <a href='vscode-notebook-cell:/Users/sameer-macair/PycharmProjects/rag_chatbot/data/pdf/notebooks/llama2.ipynb#W1sZmlsZQ%3D%3D?line=2'>3</a>\u001b[0m \u001b[39mfrom\u001b[39;00m \u001b[39mfileingestor\u001b[39;00m \u001b[39mimport\u001b[39;00m FileIngestor\n\u001b[1;32m      <a href='vscode-notebook-cell:/Users/sameer-macair/PycharmProjects/rag_chatbot/data/pdf/notebooks/llama2.ipynb#W1sZmlsZQ%3D%3D?line=4'>5</a>\u001b[0m \u001b[39m# Set the title for the Streamlit app\u001b[39;00m\n\u001b[1;32m      <a href='vscode-notebook-cell:/Users/sameer-macair/PycharmProjects/rag_chatbot/data/pdf/notebooks/llama2.ipynb#W1sZmlsZQ%3D%3D?line=5'>6</a>\u001b[0m st\u001b[39m.\u001b[39mtitle(\u001b[39m\"\u001b[39m\u001b[39mChat with PDF - 🦙 🔗\u001b[39m\u001b[39m\"\u001b[39m)\n",
      "\u001b[0;31mModuleNotFoundError\u001b[0m: No module named 'fileingestor'"
     ]
    }
   ],
   "source": [
    "import streamlit as st\n",
    "\n",
    "from fileingestor import FileIngestor\n",
    "\n",
    "# Set the title for the Streamlit app\n",
    "st.title(\"Chat with PDF - 🦙 🔗\")\n",
    "\n",
    "# Create a file uploader in the sidebar\n",
    "uploaded_file = st.sidebar.file_uploader(\"Upload File\", type=\"pdf\")\n",
    "\n",
    "if uploaded_file:\n",
    "    file_ingestor = FileIngestor(uploaded_file)\n",
    "    file_ingestor.handlefileandingest()"
   ]
  }
 ],
 "metadata": {
  "kernelspec": {
   "display_name": "base",
   "language": "python",
   "name": "python3"
  },
  "language_info": {
   "codemirror_mode": {
    "name": "ipython",
    "version": 3
   },
   "file_extension": ".py",
   "mimetype": "text/x-python",
   "name": "python",
   "nbconvert_exporter": "python",
   "pygments_lexer": "ipython3",
   "version": "3.9.12"
  },
  "orig_nbformat": 4
 },
 "nbformat": 4,
 "nbformat_minor": 2
}
